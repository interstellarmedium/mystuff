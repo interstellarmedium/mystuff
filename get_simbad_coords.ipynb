{
 "cells": [
  {
   "cell_type": "markdown",
   "metadata": {},
   "source": [
    "# write out a table of RA/DEC for list of sources by looking up simbad"
   ]
  },
  {
   "cell_type": "code",
   "execution_count": 1,
   "metadata": {
    "collapsed": false,
    "jupyter": {
     "outputs_hidden": false
    }
   },
   "outputs": [],
   "source": [
    "#import numpy as np\n",
    "#import astropy.units as u\n",
    "from astropy.coordinates import SkyCoord"
   ]
  },
  {
   "cell_type": "code",
   "execution_count": 2,
   "metadata": {},
   "outputs": [],
   "source": [
    "# load source coordinates from target list (csv file)\n",
    "sourcelist = ['HL Tau', 'TW Hya']"
   ]
  },
  {
   "cell_type": "code",
   "execution_count": 3,
   "metadata": {},
   "outputs": [
    {
     "data": {
      "text/plain": [
       "['HL Tau', 'TW Hya']"
      ]
     },
     "execution_count": 3,
     "metadata": {},
     "output_type": "execute_result"
    }
   ],
   "source": [
    "sourcelist"
   ]
  },
  {
   "cell_type": "code",
   "execution_count": 4,
   "metadata": {},
   "outputs": [],
   "source": [
    "nsources = len(sourcelist)\n",
    "coords = []\n",
    "for i in range(nsources):\n",
    "    coords.append(SkyCoord.from_name(sourcelist[i]))"
   ]
  },
  {
   "cell_type": "code",
   "execution_count": 6,
   "metadata": {},
   "outputs": [],
   "source": [
    "# write out to text file\n",
    "f = open('targets_NEW.txt', 'w')\n",
    "for i in range(nsources):\n",
    "    ra = coords[i].ra.hms\n",
    "    dec = coords[i].dec.dms\n",
    "    f.write('{0:30s} {1:02g}:{2:02g}:{3:05.2f}  {4:3g}:{5:02g}:{6:05.2f}\\n'.format(sourcelist[i], ra[0], ra[1], ra[2], dec[0], abs(dec[1]), abs(dec[2])))\n",
    "f.close()"
   ]
  },
  {
   "cell_type": "code",
   "execution_count": null,
   "metadata": {},
   "outputs": [],
   "source": []
  }
 ],
 "metadata": {
  "kernelspec": {
   "display_name": "Python 3 (ipykernel)",
   "language": "python",
   "name": "python3"
  },
  "language_info": {
   "codemirror_mode": {
    "name": "ipython",
    "version": 3
   },
   "file_extension": ".py",
   "mimetype": "text/x-python",
   "name": "python",
   "nbconvert_exporter": "python",
   "pygments_lexer": "ipython3",
   "version": "3.9.13"
  }
 },
 "nbformat": 4,
 "nbformat_minor": 4
}
