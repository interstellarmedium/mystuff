{
 "cells": [
  {
   "cell_type": "markdown",
   "metadata": {},
   "source": [
    "# write out a table of RA/DEC for list of sources by looking up simbad"
   ]
  },
  {
   "cell_type": "code",
   "execution_count": 6,
   "metadata": {
    "collapsed": false,
    "jupyter": {
     "outputs_hidden": false
    }
   },
   "outputs": [],
   "source": [
    "#import numpy as np\n",
    "#import astropy.units as u\n",
    "from astropy.coordinates import SkyCoord"
   ]
  },
  {
   "cell_type": "code",
   "execution_count": 7,
   "metadata": {},
   "outputs": [],
   "source": [
    "# load source coordinates from target list (csv file)\n",
    "sourcelist = ['AS 218', 'AT Pyx', 'AX Cha', 'BD-08_1115', 'BD+05_885', 'Gaia DR2 5854897321965963264', \\\n",
    "              'HD 294260', 'HD 37411', 'HD 38238', '2MASS J05113654-0222484', '2MASS J05333982-0038541', \\\n",
    "              '2MASS J05373003-0048520', '2MASS J13005622-7654021', '2MASS J13342461-6517473', '2MASS J15505874-2545046', \\\n",
    "              '2MASS J15535391-2431592', '2MASS J15535586-2358410', '2MASS J16142237-3300398', '2MASS J16251923-2426526', \\\n",
    "              '2MASS J16382865-1813136', 'PDS 110', 'PDS 113', 'PDS 144', 'PDS 277', 'PDS 415', 'RECX 11', \\\n",
    "              'Sz 126', 'Sz 134', 'V499 Ori']"
   ]
  },
  {
   "cell_type": "code",
   "execution_count": 8,
   "metadata": {},
   "outputs": [
    {
     "data": {
      "text/plain": [
       "['AS 218',\n",
       " 'AT Pyx',\n",
       " 'AX Cha',\n",
       " 'BD-08_1115',\n",
       " 'BD+05_885',\n",
       " 'Gaia DR2 5854897321965963264',\n",
       " 'HD 294260',\n",
       " 'HD 37411',\n",
       " 'HD 38238',\n",
       " '2MASS J05113654-0222484',\n",
       " '2MASS J05333982-0038541',\n",
       " '2MASS J05373003-0048520',\n",
       " '2MASS J13005622-7654021',\n",
       " '2MASS J13342461-6517473',\n",
       " '2MASS J15505874-2545046',\n",
       " '2MASS J15535391-2431592',\n",
       " '2MASS J15535586-2358410',\n",
       " '2MASS J16142237-3300398',\n",
       " '2MASS J16251923-2426526',\n",
       " '2MASS J16382865-1813136',\n",
       " 'PDS 110',\n",
       " 'PDS 113',\n",
       " 'PDS 144',\n",
       " 'PDS 277',\n",
       " 'PDS 415',\n",
       " 'RECX 11',\n",
       " 'Sz 126',\n",
       " 'Sz 134',\n",
       " 'V499 Ori']"
      ]
     },
     "execution_count": 8,
     "metadata": {},
     "output_type": "execute_result"
    }
   ],
   "source": [
    "sourcelist"
   ]
  },
  {
   "cell_type": "code",
   "execution_count": 9,
   "metadata": {},
   "outputs": [],
   "source": [
    "nsources = len(sourcelist)\n",
    "coords = []\n",
    "for i in range(nsources):\n",
    "    coords.append(SkyCoord.from_name(sourcelist[i]))"
   ]
  },
  {
   "cell_type": "code",
   "execution_count": 12,
   "metadata": {},
   "outputs": [],
   "source": [
    "# write out to text file\n",
    "f = open('targets_NEW.txt', 'w')\n",
    "for i in range(nsources):\n",
    "    ra = coords[i].ra.hms\n",
    "    dec = coords[i].dec.dms\n",
    "    f.write('{0:30s} {1:02g}:{2:02g}:{3:05.2f}  {4:3g}:{5:02g}:{6:05.2f}\\n'.format(sourcelist[i], ra[0], ra[1], ra[2], dec[0], abs(dec[1]), abs(dec[2])))\n",
    "f.close()"
   ]
  },
  {
   "cell_type": "code",
   "execution_count": null,
   "metadata": {},
   "outputs": [],
   "source": []
  }
 ],
 "metadata": {
  "kernelspec": {
   "display_name": "Python 3 (ipykernel)",
   "language": "python",
   "name": "python3"
  },
  "language_info": {
   "codemirror_mode": {
    "name": "ipython",
    "version": 3
   },
   "file_extension": ".py",
   "mimetype": "text/x-python",
   "name": "python",
   "nbconvert_exporter": "python",
   "pygments_lexer": "ipython3",
   "version": "3.9.13"
  }
 },
 "nbformat": 4,
 "nbformat_minor": 4
}
